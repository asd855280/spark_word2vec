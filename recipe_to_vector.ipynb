{
 "cells": [
  {
   "cell_type": "markdown",
   "metadata": {},
   "source": [
    "## Segment recipe text for fitting word2vec model, and save recipe_vector json file locally"
   ]
  },
  {
   "cell_type": "code",
   "execution_count": 1,
   "metadata": {},
   "outputs": [],
   "source": [
    "import re\n",
    "import json\n",
    "import jieba\n",
    "import time\n",
    "from pyspark.sql.functions import *\n",
    "from pyspark.sql.types import *\n",
    "from pyspark.ml.linalg import Vectors\n",
    "from pyspark.ml.feature import VectorAssembler"
   ]
  },
  {
   "cell_type": "markdown",
   "metadata": {},
   "source": [
    "## Define a function to run in cluster, which segment all chinese characters"
   ]
  },
  {
   "cell_type": "code",
   "execution_count": 2,
   "metadata": {},
   "outputs": [],
   "source": [
    "spark.sparkContext.addFile('mydict_3.txt')\n",
    "def wordToSeg(x):\n",
    "    if not jieba.dt.initialized:\n",
    "        jieba.load_userdict('mydict_3.txt')\n",
    "    \n",
    "    try:\n",
    "        interstate = re.sub(r'\\W', '', x)\n",
    "    except:\n",
    "        interstate = x\n",
    "        pass\n",
    "    try:\n",
    "        secondstate = interstate.replace('\\n','')\n",
    "    except:\n",
    "        secondstate = interstate\n",
    "        pass\n",
    "    try:\n",
    "        thirdstate = secondstate.replace('\\n\\n','')\n",
    "    except:\n",
    "        thirdstate = secondstate\n",
    "        pass\n",
    "    try:\n",
    "        finalstate = re.sub(r'[a-zA-Z0-9]', '', thirdstate)\n",
    "    except:\n",
    "        finalstate = thirdstate\n",
    "        pass\n",
    "    try:\n",
    "        seg = jieba.cut(finalstate, cut_all = False)\n",
    "    except:\n",
    "        output = finalstate\n",
    "        pass\n",
    "    try:\n",
    "        output = ' '.join(seg)\n",
    "    except:\n",
    "        output = ''\n",
    "        pass\n",
    "    return output\n",
    "    "
   ]
  },
  {
   "cell_type": "markdown",
   "metadata": {},
   "source": [
    "### Register the UDF"
   ]
  },
  {
   "cell_type": "code",
   "execution_count": 3,
   "metadata": {},
   "outputs": [],
   "source": [
    "spark.udf.register(\"word2seg\", wordToSeg, StringType())\n",
    "word2Seg = udf(wordToSeg, StringType())"
   ]
  },
  {
   "cell_type": "markdown",
   "metadata": {},
   "source": [
    "### Load in all recipes information from HDFS"
   ]
  },
  {
   "cell_type": "code",
   "execution_count": 4,
   "metadata": {},
   "outputs": [],
   "source": [
    "recipe = spark.read.json(\"hdfs://master/user/spark/spark101/recipe_com/recipe_to_spark.json\")"
   ]
  },
  {
   "cell_type": "markdown",
   "metadata": {},
   "source": [
    "### Creating temp view for following SQL query"
   ]
  },
  {
   "cell_type": "code",
   "execution_count": 5,
   "metadata": {},
   "outputs": [],
   "source": [
    "recipe.createOrReplaceTempView(\"recipes\")"
   ]
  },
  {
   "cell_type": "markdown",
   "metadata": {},
   "source": [
    "### SQL query with pre-defined function"
   ]
  },
  {
   "cell_type": "code",
   "execution_count": 6,
   "metadata": {},
   "outputs": [],
   "source": [
    "# Apply segment function on columns of ingredient, steps, comment and category\n",
    "recipes_seg = spark.sql('''select url, img_url, title, time, author, word2Seg(ingredient) ingredient, \n",
    "                        word2Seg(steps) steps, word2Seg(comment) comment,\n",
    "                        word2Seg(category) category from recipes''')"
   ]
  },
  {
   "cell_type": "code",
   "execution_count": 7,
   "metadata": {},
   "outputs": [],
   "source": [
    "recipes_seg.createOrReplaceTempView(\"recipes_seg\")"
   ]
  },
  {
   "cell_type": "code",
   "execution_count": 8,
   "metadata": {},
   "outputs": [],
   "source": [
    "recipes_wordbag = spark.sql('''SELECT concat(ingredient, steps, comment, category) as text from recipes_seg''')"
   ]
  },
  {
   "cell_type": "markdown",
   "metadata": {},
   "source": [
    "### Define another function for spliting words in each row"
   ]
  },
  {
   "cell_type": "code",
   "execution_count": 9,
   "metadata": {},
   "outputs": [],
   "source": [
    "def wordToList(x):\n",
    "    return x.split(' ')"
   ]
  },
  {
   "cell_type": "markdown",
   "metadata": {},
   "source": [
    "### Register UDF for spliting words to lists"
   ]
  },
  {
   "cell_type": "code",
   "execution_count": 10,
   "metadata": {},
   "outputs": [],
   "source": [
    "spark.udf.register(\"word2list\", wordToList, ArrayType(StringType()))\n",
    "word2list = udf(wordToList, ArrayType(StringType()))"
   ]
  },
  {
   "cell_type": "markdown",
   "metadata": {},
   "source": [
    "### Getting ready to split the big string into list, then fit into word2vec training model"
   ]
  },
  {
   "cell_type": "code",
   "execution_count": 11,
   "metadata": {},
   "outputs": [],
   "source": [
    "recipes_wordbag.createOrReplaceTempView(\"recipes_wordlist\")"
   ]
  },
  {
   "cell_type": "code",
   "execution_count": 12,
   "metadata": {},
   "outputs": [],
   "source": [
    "for_word2vec = spark.sql('''SELECT word2list(text) text from recipes_wordlist''')"
   ]
  },
  {
   "cell_type": "markdown",
   "metadata": {},
   "source": [
    "### Spark MLlib word2vec training"
   ]
  },
  {
   "cell_type": "code",
   "execution_count": 13,
   "metadata": {},
   "outputs": [],
   "source": [
    "from pyspark.ml.feature import Word2Vec"
   ]
  },
  {
   "cell_type": "code",
   "execution_count": 14,
   "metadata": {},
   "outputs": [],
   "source": [
    "word2Vec = Word2Vec(vectorSize=150, minCount=3, inputCol=\"text\", outputCol=\"result\")\n",
    "model = word2Vec.fit(for_word2vec)\n"
   ]
  },
  {
   "cell_type": "markdown",
   "metadata": {},
   "source": [
    "## Save the model"
   ]
  },
  {
   "cell_type": "code",
   "execution_count": null,
   "metadata": {},
   "outputs": [],
   "source": [
    "model.save(\"hdfs://master/user/spark/spark101/recipe_com/recipe_word2vec_model\")"
   ]
  },
  {
   "cell_type": "markdown",
   "metadata": {},
   "source": [
    "## Transform all recipes into vector by using the word2vec model"
   ]
  },
  {
   "cell_type": "code",
   "execution_count": 15,
   "metadata": {},
   "outputs": [],
   "source": [
    "recipes_wordseg = spark.sql('''SELECT url, img_url, title, author, concat(ingredient, steps, comment, category) as text from recipes_seg''')"
   ]
  },
  {
   "cell_type": "code",
   "execution_count": 16,
   "metadata": {},
   "outputs": [],
   "source": [
    "recipes_wordseg.createOrReplaceTempView(\"recipes_wordseg\")"
   ]
  },
  {
   "cell_type": "code",
   "execution_count": 17,
   "metadata": {},
   "outputs": [],
   "source": [
    "recipes_wordseglist = spark.sql('''SELECT url, img_url, title, author, word2list(text) as text from recipes_wordseg''')"
   ]
  },
  {
   "cell_type": "code",
   "execution_count": 18,
   "metadata": {},
   "outputs": [],
   "source": [
    "recipe_vector = model.transform(recipes_wordseglist)"
   ]
  },
  {
   "cell_type": "code",
   "execution_count": 20,
   "metadata": {
    "scrolled": true
   },
   "outputs": [
    {
     "data": {
      "text/html": [
       "<div>\n",
       "<style scoped>\n",
       "    .dataframe tbody tr th:only-of-type {\n",
       "        vertical-align: middle;\n",
       "    }\n",
       "\n",
       "    .dataframe tbody tr th {\n",
       "        vertical-align: top;\n",
       "    }\n",
       "\n",
       "    .dataframe thead th {\n",
       "        text-align: right;\n",
       "    }\n",
       "</style>\n",
       "<table border=\"1\" class=\"dataframe\">\n",
       "  <thead>\n",
       "    <tr style=\"text-align: right;\">\n",
       "      <th></th>\n",
       "      <th>url</th>\n",
       "      <th>img_url</th>\n",
       "      <th>title</th>\n",
       "      <th>author</th>\n",
       "      <th>text</th>\n",
       "      <th>result</th>\n",
       "    </tr>\n",
       "  </thead>\n",
       "  <tbody>\n",
       "    <tr>\n",
       "      <th>0</th>\n",
       "      <td>https://icook.tw/recipes/350499</td>\n",
       "      <td>https://imageproxy.icook.network/resize?height...</td>\n",
       "      <td>【減脂便當】鮪魚薯泥&amp;甜豆蝦仁</td>\n",
       "      <td>R.L. 料理研究室</td>\n",
       "      <td>[馬鈴薯, 蒜頭, 小瓣, 牛奶, 水煮鮪魚罐頭, 罐, 鹽適量, 甜豆, 蝦仁, 洋蔥半顆...</td>\n",
       "      <td>[-0.05569262317360633, -0.08170467016117818, -...</td>\n",
       "    </tr>\n",
       "    <tr>\n",
       "      <th>1</th>\n",
       "      <td>https://icook.tw/recipes/350438</td>\n",
       "      <td>https://imageproxy.icook.network/resize?height...</td>\n",
       "      <td>【紙包鮭魚料理】烤箱｜爐連烤｜鮭魚｜健身</td>\n",
       "      <td>玫籽の健身/寶寶料理</td>\n",
       "      <td>[洋蔥半顆, 小, 番茄顆, 酸豆, 適量, 蒜頭, 把, 檸檬顆, 蘆筍, 把, 鮭魚, ...</td>\n",
       "      <td>[0.0576996104284032, 0.000891230241944566, 0.0...</td>\n",
       "    </tr>\n",
       "    <tr>\n",
       "      <th>2</th>\n",
       "      <td>https://icook.tw/recipes/350180</td>\n",
       "      <td>https://imageproxy.icook.network/resize?height...</td>\n",
       "      <td>【台鹽料理教室】雞肉溫沙拉</td>\n",
       "      <td>台鹽鹽選生活家</td>\n",
       "      <td>[羅, 曼, 生菜, 片, 紅甜椒, 顆, 黃甜椒, 顆, 洋蔥半顆, 去骨雞腿排, 片鮮菇...</td>\n",
       "      <td>[-0.028010145874540735, -0.031009690147895317,...</td>\n",
       "    </tr>\n",
       "    <tr>\n",
       "      <th>3</th>\n",
       "      <td>https://icook.tw/recipes/349771</td>\n",
       "      <td>https://imageproxy.icook.network/resize?height...</td>\n",
       "      <td>【日式蕎麥麵】｜爐連烤｜蕎麥麵｜健身</td>\n",
       "      <td>玫籽の健身/寶寶料理</td>\n",
       "      <td>[昆布, 醬油少許, 蕎麥麵, 把, 雞胸肉塊, 雞蛋顆, 海苔, 數片炎熱, 的, 夏天,...</td>\n",
       "      <td>[0.0670748020027712, 0.04386279430899838, -0.0...</td>\n",
       "    </tr>\n",
       "    <tr>\n",
       "      <th>4</th>\n",
       "      <td>https://icook.tw/recipes/349710</td>\n",
       "      <td>https://imageproxy.icook.network/resize?height...</td>\n",
       "      <td>墨西哥酪梨雞肉捲餅(夏日輕食料理)</td>\n",
       "      <td>挑嘴小食堂</td>\n",
       "      <td>[雞里肌肉, 克, 番茄顆, 墨西哥餅皮, 張, 雞蛋顆, 酪梨顆, 蘿蔓生菜, 把, 黑胡...</td>\n",
       "      <td>[0.023386845547252167, -0.0028286017947651157,...</td>\n",
       "    </tr>\n",
       "    <tr>\n",
       "      <th>...</th>\n",
       "      <td>...</td>\n",
       "      <td>...</td>\n",
       "      <td>...</td>\n",
       "      <td>...</td>\n",
       "      <td>...</td>\n",
       "      <td>...</td>\n",
       "    </tr>\n",
       "    <tr>\n",
       "      <th>73863</th>\n",
       "      <td>https://cookpad.com/tw/%E9%A3%9F%E8%AD%9C/1223...</td>\n",
       "      <td>https://img-global.cpcdn.com/recipes/b684db144...</td>\n",
       "      <td>千層豬肉鍋</td>\n",
       "      <td>Lucia</td>\n",
       "      <td>[白菜, 片, 金針菇, 少許, 豬梅花肉, 片盒, 烹大師匙白菜, 洗淨, 一葉, 一頁,...</td>\n",
       "      <td>[-0.015230400239312047, -0.0001222899586740714...</td>\n",
       "    </tr>\n",
       "    <tr>\n",
       "      <th>73864</th>\n",
       "      <td>https://cookpad.com/tw/%E9%A3%9F%E8%AD%9C/1280...</td>\n",
       "      <td>https://img-global.cpcdn.com/recipes/b59bc3293...</td>\n",
       "      <td>沙茶培根豬</td>\n",
       "      <td>Jennifer 李</td>\n",
       "      <td>[食材, 培根, 豬肉片, 公克, 半, 把, 空心菜, 瓣, 蒜頭, 根, 辣椒, 調味料...</td>\n",
       "      <td>[-0.0958413707602449, -0.10275696497410536, -0...</td>\n",
       "    </tr>\n",
       "    <tr>\n",
       "      <th>73865</th>\n",
       "      <td>https://cookpad.com/tw/%E9%A3%9F%E8%AD%9C/1279...</td>\n",
       "      <td>https://img-global.cpcdn.com/recipes/2c83d0601...</td>\n",
       "      <td>醬燒蓮藕豬</td>\n",
       "      <td>Kit.CHEN 小廚娘 Chloe</td>\n",
       "      <td>[豬肉, 盒切, 塊, 蓮藕, 棵, 切片, 台灣, 玉米筍, 紅蘿蔔, 熟, 毛豆豬肉, ...</td>\n",
       "      <td>[-0.11176704472460437, -0.053678994413976576, ...</td>\n",
       "    </tr>\n",
       "    <tr>\n",
       "      <th>73866</th>\n",
       "      <td>https://cookpad.com/tw/%E9%A3%9F%E8%AD%9C/1272...</td>\n",
       "      <td>https://img-global.cpcdn.com/recipes/db2040b58...</td>\n",
       "      <td>豬肉腸煎蛋</td>\n",
       "      <td>麗麗</td>\n",
       "      <td>[好市, 多, 豬肉, 腸條切, 丁, 蔥花, 根, 蛋顆, 鹽適量, 白胡椒粉適量所有, ...</td>\n",
       "      <td>[-0.06235234325994616, -0.06607790712429129, -...</td>\n",
       "    </tr>\n",
       "    <tr>\n",
       "      <th>73867</th>\n",
       "      <td>https://cookpad.com/tw/%E9%A3%9F%E8%AD%9C/1276...</td>\n",
       "      <td>https://img-global.cpcdn.com/recipes/c59f30151...</td>\n",
       "      <td>豬肉悶高麗菜</td>\n",
       "      <td>萩妹的小廚房</td>\n",
       "      <td>[高麗菜, 半顆, 豬肉, 半斤, 醃料, 蠔油, 一湯匙, 醬油湯匙, 糖, 湯匙, 白胡...</td>\n",
       "      <td>[-0.06872980911717859, -0.04328088748247124, -...</td>\n",
       "    </tr>\n",
       "  </tbody>\n",
       "</table>\n",
       "<p>73868 rows × 6 columns</p>\n",
       "</div>"
      ],
      "text/plain": [
       "                                                     url  \\\n",
       "0                        https://icook.tw/recipes/350499   \n",
       "1                        https://icook.tw/recipes/350438   \n",
       "2                        https://icook.tw/recipes/350180   \n",
       "3                        https://icook.tw/recipes/349771   \n",
       "4                        https://icook.tw/recipes/349710   \n",
       "...                                                  ...   \n",
       "73863  https://cookpad.com/tw/%E9%A3%9F%E8%AD%9C/1223...   \n",
       "73864  https://cookpad.com/tw/%E9%A3%9F%E8%AD%9C/1280...   \n",
       "73865  https://cookpad.com/tw/%E9%A3%9F%E8%AD%9C/1279...   \n",
       "73866  https://cookpad.com/tw/%E9%A3%9F%E8%AD%9C/1272...   \n",
       "73867  https://cookpad.com/tw/%E9%A3%9F%E8%AD%9C/1276...   \n",
       "\n",
       "                                                 img_url  \\\n",
       "0      https://imageproxy.icook.network/resize?height...   \n",
       "1      https://imageproxy.icook.network/resize?height...   \n",
       "2      https://imageproxy.icook.network/resize?height...   \n",
       "3      https://imageproxy.icook.network/resize?height...   \n",
       "4      https://imageproxy.icook.network/resize?height...   \n",
       "...                                                  ...   \n",
       "73863  https://img-global.cpcdn.com/recipes/b684db144...   \n",
       "73864  https://img-global.cpcdn.com/recipes/b59bc3293...   \n",
       "73865  https://img-global.cpcdn.com/recipes/2c83d0601...   \n",
       "73866  https://img-global.cpcdn.com/recipes/db2040b58...   \n",
       "73867  https://img-global.cpcdn.com/recipes/c59f30151...   \n",
       "\n",
       "                      title              author  \\\n",
       "0           【減脂便當】鮪魚薯泥&甜豆蝦仁          R.L. 料理研究室   \n",
       "1      【紙包鮭魚料理】烤箱｜爐連烤｜鮭魚｜健身          玫籽の健身/寶寶料理   \n",
       "2             【台鹽料理教室】雞肉溫沙拉             台鹽鹽選生活家   \n",
       "3        【日式蕎麥麵】｜爐連烤｜蕎麥麵｜健身          玫籽の健身/寶寶料理   \n",
       "4         墨西哥酪梨雞肉捲餅(夏日輕食料理)               挑嘴小食堂   \n",
       "...                     ...                 ...   \n",
       "73863                 千層豬肉鍋               Lucia   \n",
       "73864                 沙茶培根豬          Jennifer 李   \n",
       "73865                 醬燒蓮藕豬  Kit.CHEN 小廚娘 Chloe   \n",
       "73866                 豬肉腸煎蛋                  麗麗   \n",
       "73867                豬肉悶高麗菜              萩妹的小廚房   \n",
       "\n",
       "                                                    text  \\\n",
       "0      [馬鈴薯, 蒜頭, 小瓣, 牛奶, 水煮鮪魚罐頭, 罐, 鹽適量, 甜豆, 蝦仁, 洋蔥半顆...   \n",
       "1      [洋蔥半顆, 小, 番茄顆, 酸豆, 適量, 蒜頭, 把, 檸檬顆, 蘆筍, 把, 鮭魚, ...   \n",
       "2      [羅, 曼, 生菜, 片, 紅甜椒, 顆, 黃甜椒, 顆, 洋蔥半顆, 去骨雞腿排, 片鮮菇...   \n",
       "3      [昆布, 醬油少許, 蕎麥麵, 把, 雞胸肉塊, 雞蛋顆, 海苔, 數片炎熱, 的, 夏天,...   \n",
       "4      [雞里肌肉, 克, 番茄顆, 墨西哥餅皮, 張, 雞蛋顆, 酪梨顆, 蘿蔓生菜, 把, 黑胡...   \n",
       "...                                                  ...   \n",
       "73863  [白菜, 片, 金針菇, 少許, 豬梅花肉, 片盒, 烹大師匙白菜, 洗淨, 一葉, 一頁,...   \n",
       "73864  [食材, 培根, 豬肉片, 公克, 半, 把, 空心菜, 瓣, 蒜頭, 根, 辣椒, 調味料...   \n",
       "73865  [豬肉, 盒切, 塊, 蓮藕, 棵, 切片, 台灣, 玉米筍, 紅蘿蔔, 熟, 毛豆豬肉, ...   \n",
       "73866  [好市, 多, 豬肉, 腸條切, 丁, 蔥花, 根, 蛋顆, 鹽適量, 白胡椒粉適量所有, ...   \n",
       "73867  [高麗菜, 半顆, 豬肉, 半斤, 醃料, 蠔油, 一湯匙, 醬油湯匙, 糖, 湯匙, 白胡...   \n",
       "\n",
       "                                                  result  \n",
       "0      [-0.05569262317360633, -0.08170467016117818, -...  \n",
       "1      [0.0576996104284032, 0.000891230241944566, 0.0...  \n",
       "2      [-0.028010145874540735, -0.031009690147895317,...  \n",
       "3      [0.0670748020027712, 0.04386279430899838, -0.0...  \n",
       "4      [0.023386845547252167, -0.0028286017947651157,...  \n",
       "...                                                  ...  \n",
       "73863  [-0.015230400239312047, -0.0001222899586740714...  \n",
       "73864  [-0.0958413707602449, -0.10275696497410536, -0...  \n",
       "73865  [-0.11176704472460437, -0.053678994413976576, ...  \n",
       "73866  [-0.06235234325994616, -0.06607790712429129, -...  \n",
       "73867  [-0.06872980911717859, -0.04328088748247124, -...  \n",
       "\n",
       "[73868 rows x 6 columns]"
      ]
     },
     "execution_count": 20,
     "metadata": {},
     "output_type": "execute_result"
    }
   ],
   "source": [
    "# Transfer into Pandas DataFrame for reviewing\n",
    "recipe_vector.toPandas()"
   ]
  },
  {
   "cell_type": "markdown",
   "metadata": {},
   "source": [
    "### Save recipe_vector to json on Hadoop hdfs"
   ]
  },
  {
   "cell_type": "code",
   "execution_count": null,
   "metadata": {},
   "outputs": [],
   "source": [
    "recipe_vector.write.json(\"hdfs://master/user/spark/spark101/recipe_com/recipe_vector.json\")"
   ]
  },
  {
   "cell_type": "markdown",
   "metadata": {},
   "source": [
    "### Or we can save recipe_vector json text file to local file system"
   ]
  },
  {
   "cell_type": "code",
   "execution_count": 19,
   "metadata": {},
   "outputs": [],
   "source": [
    "recipe_vector.coalesce(1).write.format('json').save(\"/home/spark/Desktop/recipe_com/recipe_vector.json\")"
   ]
  },
  {
   "cell_type": "markdown",
   "metadata": {},
   "source": [
    "* Use the following command to download file from hdfs locally"
   ]
  },
  {
   "cell_type": "markdown",
   "metadata": {},
   "source": [
    "hadoop fs -get /home/spark/Desktop/recipe_com/recipe_vector.json ~/Desktop/recipe_com/recipe_vector.json"
   ]
  },
  {
   "cell_type": "code",
   "execution_count": null,
   "metadata": {},
   "outputs": [],
   "source": []
  },
  {
   "cell_type": "code",
   "execution_count": null,
   "metadata": {},
   "outputs": [],
   "source": []
  },
  {
   "cell_type": "code",
   "execution_count": null,
   "metadata": {},
   "outputs": [],
   "source": []
  },
  {
   "cell_type": "code",
   "execution_count": null,
   "metadata": {},
   "outputs": [],
   "source": []
  },
  {
   "cell_type": "code",
   "execution_count": null,
   "metadata": {},
   "outputs": [],
   "source": []
  },
  {
   "cell_type": "code",
   "execution_count": null,
   "metadata": {},
   "outputs": [],
   "source": []
  }
 ],
 "metadata": {
  "kernelspec": {
   "display_name": "Python 3",
   "language": "python",
   "name": "python3"
  },
  "language_info": {
   "codemirror_mode": {
    "name": "ipython",
    "version": 3
   },
   "file_extension": ".py",
   "mimetype": "text/x-python",
   "name": "python",
   "nbconvert_exporter": "python",
   "pygments_lexer": "ipython3",
   "version": "3.7.6"
  }
 },
 "nbformat": 4,
 "nbformat_minor": 4
}
